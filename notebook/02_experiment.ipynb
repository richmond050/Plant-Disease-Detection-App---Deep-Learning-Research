{
 "cells": [
  {
   "cell_type": "code",
   "execution_count": 1,
   "id": "86516877",
   "metadata": {},
   "outputs": [],
   "source": [
    "import tensorflow as tf\n",
    "import matplotlib.pyplot as plt\n",
    "import numpy as np\n",
    "from sklearn.utils.class_weight import compute_class_weight\n",
    "from sklearn.metrics import classification_report, confusion_matrix\n",
    "import seaborn as sns"
   ]
  },
  {
   "cell_type": "markdown",
   "id": "9a1dda8a",
   "metadata": {},
   "source": [
    "### Loading Data"
   ]
  },
  {
   "cell_type": "code",
   "execution_count": 3,
   "id": "857b6222",
   "metadata": {},
   "outputs": [
    {
     "name": "stdout",
     "output_type": "stream",
     "text": [
      "Found 14437 files belonging to 15 classes.\n",
      "Found 3097 files belonging to 15 classes.\n",
      "Found 3104 files belonging to 15 classes.\n",
      "Classes: ['Pepper__bell___Bacterial_spot', 'Pepper__bell___healthy', 'Potato___Early_blight', 'Potato___Late_blight', 'Potato___healthy', 'Tomato_Bacterial_spot', 'Tomato_Early_blight', 'Tomato_Late_blight', 'Tomato_Leaf_Mold', 'Tomato_Septoria_leaf_spot', 'Tomato_Spider_mites_Two_spotted_spider_mite', 'Tomato__Target_Spot', 'Tomato__Tomato_YellowLeaf__Curl_Virus', 'Tomato__Tomato_mosaic_virus', 'Tomato_healthy']\n"
     ]
    }
   ],
   "source": [
    "train_dir = \"../data/processed/train\"\n",
    "val_dir = \"../data/processed/val\"\n",
    "test_dir = \"../data/processed/test\"\n",
    "\n",
    "IMG_SIZE = (224, 224)\n",
    "BATCH_SIZE = 32\n",
    "\n",
    "train_ds = tf.keras.utils.image_dataset_from_directory(\n",
    "    train_dir,\n",
    "    image_size=IMG_SIZE,\n",
    "    batch_size=BATCH_SIZE,\n",
    "    label_mode='int'\n",
    ")\n",
    "\n",
    "val_ds = tf.keras.utils.image_dataset_from_directory(\n",
    "    val_dir,\n",
    "    image_size=IMG_SIZE,\n",
    "    batch_size=BATCH_SIZE,\n",
    "    label_mode='int'\n",
    ")\n",
    "\n",
    "test_ds = tf.keras.utils.image_dataset_from_directory(\n",
    "    test_dir,\n",
    "    image_size=IMG_SIZE,\n",
    "    batch_size=BATCH_SIZE,\n",
    "    label_mode='int'\n",
    ")\n",
    "\n",
    "# Storing class names\n",
    "class_names = train_ds.class_names\n",
    "print(\"Classes:\", class_names)"
   ]
  },
  {
   "cell_type": "markdown",
   "id": "032ff55f",
   "metadata": {},
   "source": [
    "### Data Distribution"
   ]
  },
  {
   "cell_type": "code",
   "execution_count": 5,
   "id": "197d0eca",
   "metadata": {},
   "outputs": [
    {
     "name": "stdout",
     "output_type": "stream",
     "text": [
      "\n",
      "Samples per class:\n",
      "Pepper__bell___Bacterial_spot: 697\n",
      "Pepper__bell___healthy: 1034\n",
      "Potato___Early_blight: 699\n",
      "Potato___Late_blight: 699\n",
      "Potato___healthy: 106\n",
      "Tomato_Bacterial_spot: 1488\n",
      "Tomato_Early_blight: 699\n",
      "Tomato_Late_blight: 1336\n",
      "Tomato_Leaf_Mold: 666\n",
      "Tomato_Septoria_leaf_spot: 1239\n",
      "Tomato_Spider_mites_Two_spotted_spider_mite: 1173\n",
      "Tomato__Target_Spot: 982\n",
      "Tomato__Tomato_YellowLeaf__Curl_Virus: 2245\n",
      "Tomato__Tomato_mosaic_virus: 261\n",
      "Tomato_healthy: 1113\n"
     ]
    }
   ],
   "source": [
    "y_train = []\n",
    "for images, labels in train_ds:\n",
    "    y_train.extend(labels.numpy())\n",
    "y_train = np.array(y_train)\n",
    "\n",
    "# Count samples per class\n",
    "unique, counts = np.unique(y_train, return_counts=True)\n",
    "print(\"\\nSamples per class:\")\n",
    "for i, (class_idx, count) in enumerate(zip(unique, counts)):\n",
    "    print(f\"{class_names[class_idx]}: {count}\")"
   ]
  },
  {
   "cell_type": "markdown",
   "id": "33158a99",
   "metadata": {},
   "source": [
    "### Calculating the weigths for the imbalances"
   ]
  },
  {
   "cell_type": "code",
   "execution_count": 6,
   "id": "11dcb4e1",
   "metadata": {},
   "outputs": [
    {
     "name": "stdout",
     "output_type": "stream",
     "text": [
      "\n",
      "Class weights:\n",
      "Pepper__bell___Bacterial_spot: 1.381\n",
      "Pepper__bell___healthy: 0.931\n",
      "Potato___Early_blight: 1.377\n",
      "Potato___Late_blight: 1.377\n",
      "Potato___healthy: 9.080\n",
      "Tomato_Bacterial_spot: 0.647\n",
      "Tomato_Early_blight: 1.377\n",
      "Tomato_Late_blight: 0.720\n",
      "Tomato_Leaf_Mold: 1.445\n",
      "Tomato_Septoria_leaf_spot: 0.777\n",
      "Tomato_Spider_mites_Two_spotted_spider_mite: 0.821\n",
      "Tomato__Target_Spot: 0.980\n",
      "Tomato__Tomato_YellowLeaf__Curl_Virus: 0.429\n",
      "Tomato__Tomato_mosaic_virus: 3.688\n",
      "Tomato_healthy: 0.865\n"
     ]
    }
   ],
   "source": [
    "class_weights = compute_class_weight(\n",
    "    'balanced',\n",
    "    classes=np.unique(y_train),\n",
    "    y=y_train\n",
    ")\n",
    "\n",
    "class_weight_dict = dict(zip(range(len(class_weights)), class_weights))\n",
    "print(\"\\nClass weights:\")\n",
    "for i, weight in enumerate(class_weights):\n",
    "    print(f\"{class_names[i]}: {weight:.3f}\")"
   ]
  },
  {
   "cell_type": "markdown",
   "id": "29a684bf",
   "metadata": {},
   "source": [
    "### Preprocessing"
   ]
  },
  {
   "cell_type": "code",
   "execution_count": 7,
   "id": "19817084",
   "metadata": {},
   "outputs": [],
   "source": [
    "def preprocess(ds):\n",
    "    return ds.map(lambda x, y: (tf.cast(x, tf.float32) / 255.0, y)) \\\n",
    "             .cache().prefetch(tf.data.AUTOTUNE)\n",
    "\n",
    "train_ds = preprocess(train_ds)\n",
    "val_ds = preprocess(val_ds)\n",
    "test_ds = preprocess(test_ds)"
   ]
  },
  {
   "cell_type": "markdown",
   "id": "576ce1de",
   "metadata": {},
   "source": [
    "### Base Model"
   ]
  },
  {
   "cell_type": "code",
   "execution_count": 10,
   "id": "fa7dc804",
   "metadata": {},
   "outputs": [],
   "source": [
    "from tensorflow.keras import layers \n",
    "\n",
    "model = tf.keras.Sequential([\n",
    "    layers.Input(shape=(224, 224, 3)),\n",
    "    \n",
    "    # Simple conv layers\n",
    "    layers.Conv2D(32, (3, 3), activation='relu'),\n",
    "    layers.MaxPooling2D((2, 2)),\n",
    "    \n",
    "    layers.Conv2D(64, (3, 3), activation='relu'),\n",
    "    layers.MaxPooling2D((2, 2)),\n",
    "    \n",
    "    layers.Conv2D(64, (3, 3), activation='relu'),\n",
    "    layers.MaxPooling2D((2, 2)),\n",
    "    \n",
    "    layers.Flatten(),\n",
    "    layers.Dense(64, activation='relu'),\n",
    "    layers.Dropout(0.5),\n",
    "    layers.Dense(len(class_names), activation='softmax')\n",
    "])"
   ]
  },
  {
   "cell_type": "markdown",
   "id": "59acb251",
   "metadata": {},
   "source": [
    "### Compiling Model"
   ]
  },
  {
   "cell_type": "code",
   "execution_count": 11,
   "id": "38ba2d28",
   "metadata": {},
   "outputs": [],
   "source": [
    "model.compile(\n",
    "    optimizer='adam',\n",
    "    loss='sparse_categorical_crossentropy',\n",
    "    metrics=['accuracy']\n",
    ")"
   ]
  },
  {
   "cell_type": "markdown",
   "id": "de2a90d8",
   "metadata": {},
   "source": [
    "### Training Model"
   ]
  },
  {
   "cell_type": "code",
   "execution_count": 12,
   "id": "2593ea1c",
   "metadata": {},
   "outputs": [
    {
     "name": "stdout",
     "output_type": "stream",
     "text": [
      "Epoch 1/10\n",
      "\u001b[1m452/452\u001b[0m \u001b[32m━━━━━━━━━━━━━━━━━━━━\u001b[0m\u001b[37m\u001b[0m \u001b[1m279s\u001b[0m 613ms/step - accuracy: 0.1924 - loss: 2.5235 - val_accuracy: 0.5864 - val_loss: 1.4352\n",
      "Epoch 2/10\n",
      "\u001b[1m452/452\u001b[0m \u001b[32m━━━━━━━━━━━━━━━━━━━━\u001b[0m\u001b[37m\u001b[0m \u001b[1m300s\u001b[0m 663ms/step - accuracy: 0.4961 - loss: 1.6043 - val_accuracy: 0.7123 - val_loss: 0.9594\n",
      "Epoch 3/10\n",
      "\u001b[1m452/452\u001b[0m \u001b[32m━━━━━━━━━━━━━━━━━━━━\u001b[0m\u001b[37m\u001b[0m \u001b[1m291s\u001b[0m 643ms/step - accuracy: 0.5915 - loss: 1.2581 - val_accuracy: 0.6623 - val_loss: 1.0729\n",
      "Epoch 4/10\n",
      "\u001b[1m452/452\u001b[0m \u001b[32m━━━━━━━━━━━━━━━━━━━━\u001b[0m\u001b[37m\u001b[0m \u001b[1m288s\u001b[0m 637ms/step - accuracy: 0.6336 - loss: 1.1188 - val_accuracy: 0.7846 - val_loss: 0.6715\n",
      "Epoch 5/10\n",
      "\u001b[1m452/452\u001b[0m \u001b[32m━━━━━━━━━━━━━━━━━━━━\u001b[0m\u001b[37m\u001b[0m \u001b[1m285s\u001b[0m 630ms/step - accuracy: 0.6811 - loss: 0.9389 - val_accuracy: 0.8098 - val_loss: 0.6001\n",
      "Epoch 6/10\n",
      "\u001b[1m452/452\u001b[0m \u001b[32m━━━━━━━━━━━━━━━━━━━━\u001b[0m\u001b[37m\u001b[0m \u001b[1m294s\u001b[0m 650ms/step - accuracy: 0.7103 - loss: 0.8510 - val_accuracy: 0.7979 - val_loss: 0.6355\n",
      "Epoch 7/10\n",
      "\u001b[1m452/452\u001b[0m \u001b[32m━━━━━━━━━━━━━━━━━━━━\u001b[0m\u001b[37m\u001b[0m \u001b[1m289s\u001b[0m 639ms/step - accuracy: 0.7379 - loss: 0.7511 - val_accuracy: 0.7892 - val_loss: 0.6806\n",
      "Epoch 8/10\n",
      "\u001b[1m452/452\u001b[0m \u001b[32m━━━━━━━━━━━━━━━━━━━━\u001b[0m\u001b[37m\u001b[0m \u001b[1m295s\u001b[0m 652ms/step - accuracy: 0.7586 - loss: 0.6860 - val_accuracy: 0.8163 - val_loss: 0.5567\n",
      "Epoch 9/10\n",
      "\u001b[1m452/452\u001b[0m \u001b[32m━━━━━━━━━━━━━━━━━━━━\u001b[0m\u001b[37m\u001b[0m \u001b[1m304s\u001b[0m 673ms/step - accuracy: 0.7671 - loss: 0.6777 - val_accuracy: 0.8402 - val_loss: 0.5052\n",
      "Epoch 10/10\n",
      "\u001b[1m452/452\u001b[0m \u001b[32m━━━━━━━━━━━━━━━━━━━━\u001b[0m\u001b[37m\u001b[0m \u001b[1m293s\u001b[0m 649ms/step - accuracy: 0.8064 - loss: 0.5377 - val_accuracy: 0.8421 - val_loss: 0.5089\n"
     ]
    }
   ],
   "source": [
    "history = model.fit(\n",
    "    train_ds,\n",
    "    validation_data=val_ds,\n",
    "    epochs=10,\n",
    "    class_weight=class_weight_dict\n",
    ")"
   ]
  },
  {
   "cell_type": "markdown",
   "id": "176822ac",
   "metadata": {},
   "source": [
    "### Evaluating the model"
   ]
  },
  {
   "cell_type": "code",
   "execution_count": 13,
   "id": "8a89a713",
   "metadata": {},
   "outputs": [
    {
     "name": "stdout",
     "output_type": "stream",
     "text": [
      "\u001b[1m97/97\u001b[0m \u001b[32m━━━━━━━━━━━━━━━━━━━━\u001b[0m\u001b[37m\u001b[0m \u001b[1m14s\u001b[0m 142ms/step - accuracy: 0.8191 - loss: 0.5495\n",
      "\n",
      "Test Accuracy: 0.8235\n",
      "Test Loss: 0.5517\n"
     ]
    }
   ],
   "source": [
    "test_loss, test_accuracy = model.evaluate(test_ds)\n",
    "print(f\"\\nTest Accuracy: {test_accuracy:.4f}\")\n",
    "print(f\"Test Loss: {test_loss:.4f}\")"
   ]
  },
  {
   "cell_type": "markdown",
   "id": "2b58c81a",
   "metadata": {},
   "source": [
    "### Detailed evaluation"
   ]
  },
  {
   "cell_type": "code",
   "execution_count": 14,
   "id": "f0677c13",
   "metadata": {},
   "outputs": [
    {
     "name": "stdout",
     "output_type": "stream",
     "text": [
      "\n",
      "Classification Report:\n",
      "                                             precision    recall  f1-score   support\n",
      "\n",
      "              Pepper__bell___Bacterial_spot       0.75      0.71      0.73       150\n",
      "                     Pepper__bell___healthy       0.86      0.86      0.86       222\n",
      "                      Potato___Early_blight       0.83      0.91      0.87       151\n",
      "                       Potato___Late_blight       0.76      0.87      0.81       151\n",
      "                           Potato___healthy       0.64      0.78      0.71        23\n",
      "                      Tomato_Bacterial_spot       0.87      0.94      0.90       320\n",
      "                        Tomato_Early_blight       0.65      0.54      0.59       151\n",
      "                         Tomato_Late_blight       0.85      0.68      0.76       287\n",
      "                           Tomato_Leaf_Mold       0.83      0.73      0.78       143\n",
      "                  Tomato_Septoria_leaf_spot       0.73      0.73      0.73       266\n",
      "Tomato_Spider_mites_Two_spotted_spider_mite       0.82      0.78      0.80       252\n",
      "                        Tomato__Target_Spot       0.70      0.85      0.77       211\n",
      "      Tomato__Tomato_YellowLeaf__Curl_Virus       0.95      0.89      0.92       482\n",
      "                Tomato__Tomato_mosaic_virus       0.68      0.95      0.79        56\n",
      "                             Tomato_healthy       0.94      0.98      0.96       239\n",
      "\n",
      "                                   accuracy                           0.82      3104\n",
      "                                  macro avg       0.79      0.81      0.80      3104\n",
      "                               weighted avg       0.83      0.82      0.82      3104\n",
      "\n"
     ]
    }
   ],
   "source": [
    "y_true = []\n",
    "y_pred = []\n",
    "\n",
    "for images, labels in test_ds:\n",
    "    predictions = model.predict(images, verbose=0)\n",
    "    y_true.extend(labels.numpy())\n",
    "    y_pred.extend(np.argmax(predictions, axis=1))\n",
    "\n",
    "print(\"\\nClassification Report:\")\n",
    "print(classification_report(y_true, y_pred, target_names=class_names))"
   ]
  },
  {
   "cell_type": "markdown",
   "id": "bdfb895b",
   "metadata": {},
   "source": [
    "### Plot Results"
   ]
  },
  {
   "cell_type": "code",
   "execution_count": 15,
   "id": "5d935d84",
   "metadata": {},
   "outputs": [
    {
     "data": {
      "image/png": "[encoded data removed]",
      "text/plain": [
       "<Figure size 1200x400 with 2 Axes>"
      ]
     },
     "metadata": {},
     "output_type": "display_data"
    }
   ],
   "source": [
    "plt.figure(figsize=(12, 4))\n",
    "\n",
    "plt.subplot(1, 2, 1)\n",
    "plt.plot(history.history['accuracy'], label='Training Accuracy')\n",
    "plt.plot(history.history['val_accuracy'], label='Validation Accuracy')\n",
    "plt.legend()\n",
    "plt.title('Training vs Validation Accuracy')\n",
    "\n",
    "plt.subplot(1, 2, 2)\n",
    "plt.plot(history.history['loss'], label='Training Loss')\n",
    "plt.plot(history.history['val_loss'], label='Validation Loss')\n",
    "plt.legend()\n",
    "plt.title('Training vs Validation Loss')\n",
    "\n",
    "plt.tight_layout()\n",
    "plt.show()"
   ]
  },
  {
   "cell_type": "markdown",
   "id": "bdb941de",
   "metadata": {},
   "source": [
    "### Saving Model"
   ]
  },
  {
   "cell_type": "code",
   "execution_count": 16,
   "id": "e8c0fefe",
   "metadata": {},
   "outputs": [
    {
     "name": "stdout",
     "output_type": "stream",
     "text": [
      "Model saved successfully\n"
     ]
    }
   ],
   "source": [
    "model.save('plant_disease_model.keras')\n",
    "print(\"Model saved successfully\")"
   ]
  },
  {
   "cell_type": "markdown",
   "id": "6bf81d69",
   "metadata": {},
   "source": [
    "### Enhanced training for better results"
   ]
  },
  {
   "cell_type": "code",
   "execution_count": 17,
   "id": "fb3167d4",
   "metadata": {},
   "outputs": [],
   "source": [
    "from tensorflow.keras.callbacks import EarlyStopping, ReduceLROnPlateau, ModelCheckpoint"
   ]
  },
  {
   "cell_type": "markdown",
   "id": "dbc4d756",
   "metadata": {},
   "source": [
    "### Improved model compilation with better learning rate"
   ]
  },
  {
   "cell_type": "code",
   "execution_count": 18,
   "id": "36d936c0",
   "metadata": {},
   "outputs": [],
   "source": [
    "model.compile(\n",
    "    optimizer=tf.keras.optimizers.Adam(learning_rate=0.001),\n",
    "    loss='sparse_categorical_crossentropy',\n",
    "    metrics=['accuracy']\n",
    ")"
   ]
  },
  {
   "cell_type": "markdown",
   "id": "f0af1358",
   "metadata": {},
   "source": [
    "### Enhanced training with callbacks"
   ]
  },
  {
   "cell_type": "code",
   "execution_count": 24,
   "id": "d1bb5919",
   "metadata": {},
   "outputs": [
    {
     "name": "stdout",
     "output_type": "stream",
     "text": [
      "Training with enhanced callbacks...\n",
      "Epoch 1/10\n",
      "\u001b[1m452/452\u001b[0m \u001b[32m━━━━━━━━━━━━━━━━━━━━\u001b[0m\u001b[37m\u001b[0m \u001b[1m0s\u001b[0m 866ms/step - accuracy: 0.9438 - loss: 0.1415\n",
      "Epoch 1: val_accuracy improved from -inf to 0.88699, saving model to best_model.keras\n",
      "\u001b[1m452/452\u001b[0m \u001b[32m━━━━━━━━━━━━━━━━━━━━\u001b[0m\u001b[37m\u001b[0m \u001b[1m405s\u001b[0m 896ms/step - accuracy: 0.9438 - loss: 0.1415 - val_accuracy: 0.8870 - val_loss: 0.4608 - learning_rate: 1.2500e-04\n",
      "Epoch 2/10\n",
      "\u001b[1m452/452\u001b[0m \u001b[32m━━━━━━━━━━━━━━━━━━━━\u001b[0m\u001b[37m\u001b[0m \u001b[1m0s\u001b[0m 577ms/step - accuracy: 0.9445 - loss: 0.1469\n",
      "Epoch 2: val_accuracy improved from 0.88699 to 0.89506, saving model to best_model.keras\n",
      "\u001b[1m452/452\u001b[0m \u001b[32m━━━━━━━━━━━━━━━━━━━━\u001b[0m\u001b[37m\u001b[0m \u001b[1m276s\u001b[0m 610ms/step - accuracy: 0.9445 - loss: 0.1469 - val_accuracy: 0.8951 - val_loss: 0.4353 - learning_rate: 1.2500e-04\n",
      "Epoch 3/10\n",
      "\u001b[1m452/452\u001b[0m \u001b[32m━━━━━━━━━━━━━━━━━━━━\u001b[0m\u001b[37m\u001b[0m \u001b[1m0s\u001b[0m 619ms/step - accuracy: 0.9487 - loss: 0.1382\n",
      "Epoch 3: val_accuracy did not improve from 0.89506\n",
      "\u001b[1m452/452\u001b[0m \u001b[32m━━━━━━━━━━━━━━━━━━━━\u001b[0m\u001b[37m\u001b[0m \u001b[1m295s\u001b[0m 652ms/step - accuracy: 0.9487 - loss: 0.1382 - val_accuracy: 0.8944 - val_loss: 0.4408 - learning_rate: 1.2500e-04\n",
      "Epoch 4/10\n",
      "\u001b[1m452/452\u001b[0m \u001b[32m━━━━━━━━━━━━━━━━━━━━\u001b[0m\u001b[37m\u001b[0m \u001b[1m0s\u001b[0m 617ms/step - accuracy: 0.9454 - loss: 0.1372\n",
      "Epoch 4: val_accuracy improved from 0.89506 to 0.89926, saving model to best_model.keras\n",
      "\u001b[1m452/452\u001b[0m \u001b[32m━━━━━━━━━━━━━━━━━━━━\u001b[0m\u001b[37m\u001b[0m \u001b[1m294s\u001b[0m 650ms/step - accuracy: 0.9454 - loss: 0.1372 - val_accuracy: 0.8993 - val_loss: 0.4452 - learning_rate: 1.2500e-04\n",
      "Epoch 5/10\n",
      "\u001b[1m452/452\u001b[0m \u001b[32m━━━━━━━━━━━━━━━━━━━━\u001b[0m\u001b[37m\u001b[0m \u001b[1m0s\u001b[0m 626ms/step - accuracy: 0.9453 - loss: 0.1519\n",
      "Epoch 5: ReduceLROnPlateau reducing learning rate to 6.25000029685907e-05.\n",
      "\n",
      "Epoch 5: val_accuracy did not improve from 0.89926\n",
      "\u001b[1m452/452\u001b[0m \u001b[32m━━━━━━━━━━━━━━━━━━━━\u001b[0m\u001b[37m\u001b[0m \u001b[1m298s\u001b[0m 660ms/step - accuracy: 0.9453 - loss: 0.1519 - val_accuracy: 0.8944 - val_loss: 0.4440 - learning_rate: 1.2500e-04\n",
      "Epoch 6/10\n",
      "\u001b[1m452/452\u001b[0m \u001b[32m━━━━━━━━━━━━━━━━━━━━\u001b[0m\u001b[37m\u001b[0m \u001b[1m0s\u001b[0m 614ms/step - accuracy: 0.9554 - loss: 0.1223\n",
      "Epoch 6: val_accuracy did not improve from 0.89926\n",
      "\u001b[1m452/452\u001b[0m \u001b[32m━━━━━━━━━━━━━━━━━━━━\u001b[0m\u001b[37m\u001b[0m \u001b[1m292s\u001b[0m 645ms/step - accuracy: 0.9554 - loss: 0.1223 - val_accuracy: 0.8986 - val_loss: 0.4512 - learning_rate: 6.2500e-05\n",
      "Epoch 7/10\n",
      "\u001b[1m452/452\u001b[0m \u001b[32m━━━━━━━━━━━━━━━━━━━━\u001b[0m\u001b[37m\u001b[0m \u001b[1m0s\u001b[0m 624ms/step - accuracy: 0.9490 - loss: 0.1276\n",
      "Epoch 7: val_accuracy did not improve from 0.89926\n",
      "\u001b[1m452/452\u001b[0m \u001b[32m━━━━━━━━━━━━━━━━━━━━\u001b[0m\u001b[37m\u001b[0m \u001b[1m298s\u001b[0m 660ms/step - accuracy: 0.9490 - loss: 0.1276 - val_accuracy: 0.8986 - val_loss: 0.4590 - learning_rate: 6.2500e-05\n",
      "Epoch 8/10\n",
      "\u001b[1m452/452\u001b[0m \u001b[32m━━━━━━━━━━━━━━━━━━━━\u001b[0m\u001b[37m\u001b[0m \u001b[1m0s\u001b[0m 638ms/step - accuracy: 0.9505 - loss: 0.1347\n",
      "Epoch 8: ReduceLROnPlateau reducing learning rate to 3.125000148429535e-05.\n",
      "\n",
      "Epoch 8: val_accuracy did not improve from 0.89926\n",
      "\u001b[1m452/452\u001b[0m \u001b[32m━━━━━━━━━━━━━━━━━━━━\u001b[0m\u001b[37m\u001b[0m \u001b[1m302s\u001b[0m 668ms/step - accuracy: 0.9505 - loss: 0.1347 - val_accuracy: 0.8993 - val_loss: 0.4657 - learning_rate: 6.2500e-05\n",
      "Epoch 9/10\n",
      "\u001b[1m452/452\u001b[0m \u001b[32m━━━━━━━━━━━━━━━━━━━━\u001b[0m\u001b[37m\u001b[0m \u001b[1m0s\u001b[0m 661ms/step - accuracy: 0.9503 - loss: 0.1250\n",
      "Epoch 9: val_accuracy did not improve from 0.89926\n",
      "\u001b[1m452/452\u001b[0m \u001b[32m━━━━━━━━━━━━━━━━━━━━\u001b[0m\u001b[37m\u001b[0m \u001b[1m315s\u001b[0m 697ms/step - accuracy: 0.9503 - loss: 0.1250 - val_accuracy: 0.8964 - val_loss: 0.4615 - learning_rate: 3.1250e-05\n",
      "Epoch 9: early stopping\n",
      "Restoring model weights from the end of the best epoch: 4.\n"
     ]
    }
   ],
   "source": [
    "callbacks = [\n",
    "    EarlyStopping(\n",
    "        monitor='val_accuracy',\n",
    "        patience=5,\n",
    "        restore_best_weights=True,\n",
    "        verbose=1\n",
    "    ),\n",
    "    ReduceLROnPlateau(\n",
    "        monitor='val_loss',\n",
    "        factor=0.5,\n",
    "        patience=3,\n",
    "        min_lr=1e-7,\n",
    "        verbose=1\n",
    "    ),\n",
    "    ModelCheckpoint(\n",
    "        'best_model.keras',\n",
    "        monitor='val_accuracy',\n",
    "        save_best_only=True,\n",
    "        verbose=1\n",
    "    )\n",
    "]\n",
    "\n",
    "print(\"Training with enhanced callbacks...\")\n",
    "history = model.fit(\n",
    "    train_ds, \n",
    "    validation_data=val_ds,\n",
    "    epochs=10,  \n",
    "    class_weight=class_weight_dict,\n",
    "    callbacks=callbacks,\n",
    "    verbose=1\n",
    ")"
   ]
  },
  {
   "cell_type": "markdown",
   "id": "a8ff3e85",
   "metadata": {},
   "source": [
    "### Saving latest model"
   ]
  },
  {
   "cell_type": "code",
   "execution_count": 25,
   "id": "6b1c039d",
   "metadata": {},
   "outputs": [
    {
     "name": "stdout",
     "output_type": "stream",
     "text": [
      "Model saved successfully\n"
     ]
    }
   ],
   "source": [
    "model.save('folia_2.keras')\n",
    "print(\"Model saved successfully\")"
   ]
  },
  {
   "cell_type": "markdown",
   "id": "0f719399",
   "metadata": {},
   "source": [
    "### Evaluating latest model  on test data"
   ]
  },
  {
   "cell_type": "code",
   "execution_count": 26,
   "id": "6e2452e0",
   "metadata": {},
   "outputs": [
    {
     "name": "stdout",
     "output_type": "stream",
     "text": [
      "\u001b[1m97/97\u001b[0m \u001b[32m━━━━━━━━━━━━━━━━━━━━\u001b[0m\u001b[37m\u001b[0m \u001b[1m19s\u001b[0m 194ms/step - accuracy: 0.8850 - loss: 0.4890\n",
      "\n",
      "folia_2 Test Accuracy: 0.8831\n",
      "folia_2 Test Loss: 0.4909\n"
     ]
    }
   ],
   "source": [
    "test_loss, test_accuracy = model.evaluate(test_ds)\n",
    "print(f\"\\nfolia_2 Test Accuracy: {test_accuracy:.4f}\")\n",
    "print(f\"folia_2 Test Loss: {test_loss:.4f}\")"
   ]
  },
  {
   "cell_type": "markdown",
   "id": "91f274b7",
   "metadata": {},
   "source": [
    "### Detailed Evaluation on latest model"
   ]
  },
  {
   "cell_type": "code",
   "execution_count": 27,
   "id": "ef03bb91",
   "metadata": {},
   "outputs": [
    {
     "name": "stdout",
     "output_type": "stream",
     "text": [
      "\n",
      "folia_2 Classification Report:\n",
      "                                             precision    recall  f1-score   support\n",
      "\n",
      "              Pepper__bell___Bacterial_spot       0.83      0.82      0.83       150\n",
      "                     Pepper__bell___healthy       0.90      0.95      0.92       222\n",
      "                      Potato___Early_blight       0.91      0.91      0.91       151\n",
      "                       Potato___Late_blight       0.87      0.82      0.85       151\n",
      "                           Potato___healthy       0.82      0.78      0.80        23\n",
      "                      Tomato_Bacterial_spot       0.94      0.97      0.95       320\n",
      "                        Tomato_Early_blight       0.74      0.66      0.70       151\n",
      "                         Tomato_Late_blight       0.81      0.87      0.84       287\n",
      "                           Tomato_Leaf_Mold       0.90      0.79      0.84       143\n",
      "                  Tomato_Septoria_leaf_spot       0.78      0.81      0.79       266\n",
      "Tomato_Spider_mites_Two_spotted_spider_mite       0.89      0.87      0.88       252\n",
      "                        Tomato__Target_Spot       0.80      0.87      0.84       211\n",
      "      Tomato__Tomato_YellowLeaf__Curl_Virus       0.97      0.94      0.96       482\n",
      "                Tomato__Tomato_mosaic_virus       0.96      0.95      0.95        56\n",
      "                             Tomato_healthy       0.98      0.97      0.98       239\n",
      "\n",
      "                                   accuracy                           0.88      3104\n",
      "                                  macro avg       0.87      0.86      0.87      3104\n",
      "                               weighted avg       0.88      0.88      0.88      3104\n",
      "\n"
     ]
    }
   ],
   "source": [
    "y_true = []\n",
    "y_pred = []\n",
    "\n",
    "for images, labels in test_ds:\n",
    "    predictions = model.predict(images, verbose=0)\n",
    "    y_true.extend(labels.numpy())\n",
    "    y_pred.extend(np.argmax(predictions, axis=1))\n",
    "\n",
    "print(\"\\nfolia_2 Classification Report:\")\n",
    "print(classification_report(y_true, y_pred, target_names=class_names))"
   ]
  },
  {
   "cell_type": "markdown",
   "id": "3aeb5533",
   "metadata": {},
   "source": [
    "### Training Curves"
   ]
  },
  {
   "cell_type": "code",
   "execution_count": 28,
   "id": "dd0e9785",
   "metadata": {},
   "outputs": [
    {
     "data": {
      "text/plain": [
       "Text(0, 0.5, 'Loss')"
      ]
     },
     "execution_count": 28,
     "metadata": {},
     "output_type": "execute_result"
    },
    {
     "data": {
      "image/png": "[encoded data removed]",
      "text/plain": [
       "<Figure size 1500x500 with 2 Axes>"
      ]
     },
     "metadata": {},
     "output_type": "display_data"
    }
   ],
   "source": [
    "plt.figure(figsize=(15, 5))\n",
    "\n",
    "plt.subplot(1, 3, 1)\n",
    "plt.plot(history.history['accuracy'], label='Training Accuracy')\n",
    "plt.plot(history.history['val_accuracy'], label='Validation Accuracy')\n",
    "plt.legend()\n",
    "plt.title('Training vs Validation Accuracy')\n",
    "plt.xlabel('Epoch')\n",
    "plt.ylabel('Accuracy')\n",
    "\n",
    "plt.subplot(1, 3, 2)\n",
    "plt.plot(history.history['loss'], label='Training Loss')\n",
    "plt.plot(history.history['val_loss'], label='Validation Loss')\n",
    "plt.legend()\n",
    "plt.title('Training vs Validation Loss')\n",
    "plt.xlabel('Epoch')\n",
    "plt.ylabel('Loss')"
   ]
  }
 ],
 "metadata": {
  "kernelspec": {
   "display_name": "Python 3",
   "language": "python",
   "name": "python3"
  },
  "language_info": {
   "codemirror_mode": {
    "name": "ipython",
    "version": 3
   },
   "file_extension": ".py",
   "mimetype": "text/x-python",
   "name": "python",
   "nbconvert_exporter": "python",
   "pygments_lexer": "ipython3",
   "version": "3.12.10"
  }
 },
 "nbformat": 4,
 "nbformat_minor": 5
}
